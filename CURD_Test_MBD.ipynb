{
 "cells": [
  {
   "cell_type": "markdown",
   "id": "195350c0",
   "metadata": {},
   "source": [
    "## Testing Create method of the custom object by adding a new animal"
   ]
  },
  {
   "cell_type": "code",
   "execution_count": 2,
   "id": "491a7d0c",
   "metadata": {},
   "outputs": [
    {
     "data": {
      "text/plain": [
       "True"
      ]
     },
     "execution_count": 2,
     "metadata": {},
     "output_type": "execute_result"
    }
   ],
   "source": [
    "from CURD_Module_MDB import AnimalShelter\n",
    "\n",
    "db = AnimalShelter()\n",
    "newAnimal = {'rec_num': 10001,\n",
    "             'age_upon_outcome': '4 years',\n",
    "             'animal_id': 'B085061',\n",
    "             'animal_type': 'Dog',\n",
    "             'breed': 'Pit Bull Mix',\n",
    "             'color': 'Brown/White',\n",
    "             'date_of_birth': '2012-09-20',\n",
    "             'datetime': '2013-07-31 12:21:00',\n",
    "             'monthyear': '2013-07-31T12:21:00',\n",
    "             'name': 'Floppy',\n",
    "             'outcome_subtype': '',\n",
    "             'outcome_type': 'Return to Owner',\n",
    "             'sex_upon_outcome': 'Intact Male',\n",
    "             'location_lat': 31.4911922496130,\n",
    "             'location_long': -97.6451965362817,\n",
    "             'age_upon_outcome_in_weeks': 104.496130952381}\n",
    "db.create(newAnimal)"
   ]
  },
  {
   "cell_type": "markdown",
   "id": "edde0374",
   "metadata": {},
   "source": [
    "## Testing Read method of the custom object using the above newly inserted document"
   ]
  },
  {
   "cell_type": "code",
   "execution_count": 3,
   "id": "51e403be",
   "metadata": {},
   "outputs": [
    {
     "data": {
      "text/plain": [
       "[{'_id': ObjectId('669ad9c7f3ab47e54130b72b'),\n",
       "  'rec_num': 10001,\n",
       "  'age_upon_outcome': '4 years',\n",
       "  'animal_id': 'B085061',\n",
       "  'animal_type': 'Dog',\n",
       "  'breed': 'Pit Bull Mix',\n",
       "  'color': 'Brown/White',\n",
       "  'date_of_birth': '2012-09-20',\n",
       "  'datetime': '2013-07-31 12:21:00',\n",
       "  'monthyear': '2013-07-31T12:21:00',\n",
       "  'name': 'Floppy',\n",
       "  'outcome_subtype': '',\n",
       "  'outcome_type': 'Return to Owner',\n",
       "  'sex_upon_outcome': 'Intact Male',\n",
       "  'location_lat': 31.491192249613,\n",
       "  'location_long': -97.6451965362817,\n",
       "  'age_upon_outcome_in_weeks': 104.496130952381}]"
      ]
     },
     "execution_count": 3,
     "metadata": {},
     "output_type": "execute_result"
    }
   ],
   "source": [
    "from CURD_Module_MDB import AnimalShelter\n",
    "\n",
    "db = AnimalShelter()\n",
    "db.read({'rec_num': 10001})"
   ]
  },
  {
   "cell_type": "code",
   "execution_count": null,
   "id": "eba46389",
   "metadata": {},
   "outputs": [],
   "source": []
  }
 ],
 "metadata": {
  "kernelspec": {
   "display_name": "Python 3 (ipykernel)",
   "language": "python",
   "name": "python3"
  },
  "language_info": {
   "codemirror_mode": {
    "name": "ipython",
    "version": 3
   },
   "file_extension": ".py",
   "mimetype": "text/x-python",
   "name": "python",
   "nbconvert_exporter": "python",
   "pygments_lexer": "ipython3",
   "version": "3.9.12"
  }
 },
 "nbformat": 4,
 "nbformat_minor": 5
}
