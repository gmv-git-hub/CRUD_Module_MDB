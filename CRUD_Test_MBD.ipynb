{
 "cells": [
  {
   "cell_type": "markdown",
   "id": "195350c0",
   "metadata": {},
   "source": [
    "## Testing Create method of the custom object by adding a new animal"
   ]
  },
  {
   "cell_type": "code",
   "execution_count": 5,
   "id": "491a7d0c",
   "metadata": {},
   "outputs": [
    {
     "data": {
      "text/plain": [
       "True"
      ]
     },
     "execution_count": 5,
     "metadata": {},
     "output_type": "execute_result"
    }
   ],
   "source": [
    "from CRUD_Module_MDB import AnimalShelter\n",
    "\n",
    "db = AnimalShelter('aacuser', 'GMV_cs340')\n",
    "newAnimal = {'rec_num': 10001,\n",
    "             'age_upon_outcome': '4 years',\n",
    "             'animal_id': 'B085061',\n",
    "             'animal_type': 'Dog',\n",
    "             'breed': 'Pit Bull Mix',\n",
    "             'color': 'Brown/White',\n",
    "             'date_of_birth': '2012-09-20',\n",
    "             'datetime': '2013-07-31 12:21:00',\n",
    "             'monthyear': '2013-07-31T12:21:00',\n",
    "             'name': 'Floppy',\n",
    "             'outcome_subtype': '',\n",
    "             'outcome_type': 'Return to Owner',\n",
    "             'sex_upon_outcome': 'Intact Male',\n",
    "             'location_lat': 31.4911922496130,\n",
    "             'location_long': -97.6451965362817,\n",
    "             'age_upon_outcome_in_weeks': 104.496130952381}\n",
    "db.create(newAnimal)"
   ]
  },
  {
   "cell_type": "markdown",
   "id": "edde0374",
   "metadata": {},
   "source": [
    "## Testing Read method of the custom object using the above newly inserted document"
   ]
  },
  {
   "cell_type": "code",
   "execution_count": 6,
   "id": "51e403be",
   "metadata": {},
   "outputs": [
    {
     "data": {
      "text/plain": [
       "[{'_id': ObjectId('66a3d0391e229db01ba2e0c5'),\n",
       "  'rec_num': 10001,\n",
       "  'age_upon_outcome': '4 years',\n",
       "  'animal_id': 'B085061',\n",
       "  'animal_type': 'Dog',\n",
       "  'breed': 'Pit Bull Mix',\n",
       "  'color': 'Brown/White',\n",
       "  'date_of_birth': '2012-09-20',\n",
       "  'datetime': '2013-07-31 12:21:00',\n",
       "  'monthyear': '2013-07-31T12:21:00',\n",
       "  'name': 'Floppy',\n",
       "  'outcome_subtype': '',\n",
       "  'outcome_type': 'Return to Owner',\n",
       "  'sex_upon_outcome': 'Intact Male',\n",
       "  'location_lat': 31.491192249613,\n",
       "  'location_long': -97.6451965362817,\n",
       "  'age_upon_outcome_in_weeks': 104.496130952381}]"
      ]
     },
     "execution_count": 6,
     "metadata": {},
     "output_type": "execute_result"
    }
   ],
   "source": [
    "from CRUD_Module_MDB import AnimalShelter\n",
    "\n",
    "db = AnimalShelter('aacuser', 'GMV_cs340')\n",
    "db.read({'rec_num': 10001})"
   ]
  },
  {
   "cell_type": "code",
   "execution_count": 7,
   "id": "eba46389",
   "metadata": {},
   "outputs": [
    {
     "data": {
      "text/plain": [
       "[{'_id': ObjectId('66a3cefbd8ec0b85c892e98f'),\n",
       "  'rec_num': 150,\n",
       "  'age_upon_outcome': '8 years',\n",
       "  'animal_id': 'A697686',\n",
       "  'animal_type': 'Cat',\n",
       "  'breed': 'Domestic Longhair Mix',\n",
       "  'color': 'Black/White',\n",
       "  'date_of_birth': '2007-02-26',\n",
       "  'datetime': '2015-08-12 12:02:00',\n",
       "  'monthyear': '2015-08-12T12:02:00',\n",
       "  'name': '*Remy',\n",
       "  'outcome_subtype': 'Suffering',\n",
       "  'outcome_type': 'Euthanasia',\n",
       "  'sex_upon_outcome': 'Spayed Female',\n",
       "  'location_lat': 30.3358554363642,\n",
       "  'location_long': -97.5263389234764,\n",
       "  'age_upon_outcome_in_weeks': 441.357341269841},\n",
       " {'_id': ObjectId('66a3cefbd8ec0b85c8930755'),\n",
       "  'rec_num': 7766,\n",
       "  'age_upon_outcome': '3 years',\n",
       "  'animal_id': 'A694714',\n",
       "  'animal_type': 'Dog',\n",
       "  'breed': 'Shetland Sheepdog/Border Collie',\n",
       "  'color': 'Black/White',\n",
       "  'date_of_birth': '2012-01-02',\n",
       "  'datetime': '2015-03-16 17:05:00',\n",
       "  'monthyear': '2015-03-16T17:05:00',\n",
       "  'name': '*Remy',\n",
       "  'outcome_subtype': 'Foster',\n",
       "  'outcome_type': 'Adoption',\n",
       "  'sex_upon_outcome': 'Neutered Male',\n",
       "  'location_lat': 30.3460884719638,\n",
       "  'location_long': -97.4289935471236,\n",
       "  'age_upon_outcome_in_weeks': 167.101686507937}]"
      ]
     },
     "execution_count": 7,
     "metadata": {},
     "output_type": "execute_result"
    }
   ],
   "source": [
    "from CRUD_Module_MDB import AnimalShelter\n",
    "\n",
    "db = AnimalShelter('aacuser', 'GMV_cs340')\n",
    "db.read({'name': '*Remy'})"
   ]
  },
  {
   "cell_type": "code",
   "execution_count": 1,
   "id": "83773a59",
   "metadata": {},
   "outputs": [
    {
     "data": {
      "text/plain": [
       "2"
      ]
     },
     "execution_count": 1,
     "metadata": {},
     "output_type": "execute_result"
    }
   ],
   "source": [
    "from CRUD_Module_MDB import AnimalShelter\n",
    "\n",
    "db = AnimalShelter('aacuser', 'GMV_cs340')\n",
    "db.update({'name': '*Remy'}, {'name': 'Sammy'})"
   ]
  },
  {
   "cell_type": "code",
   "execution_count": 2,
   "id": "224eaded",
   "metadata": {},
   "outputs": [
    {
     "data": {
      "text/plain": [
       "[]"
      ]
     },
     "execution_count": 2,
     "metadata": {},
     "output_type": "execute_result"
    }
   ],
   "source": [
    "from CRUD_Module_MDB import AnimalShelter\n",
    "\n",
    "db = AnimalShelter('aacuser', 'GMV_cs340')\n",
    "db.read({'name': '*Remy'})"
   ]
  },
  {
   "cell_type": "code",
   "execution_count": 3,
   "id": "5004c579",
   "metadata": {},
   "outputs": [
    {
     "data": {
      "text/plain": [
       "[{'_id': ObjectId('66a3cefbd8ec0b85c892e95a'),\n",
       "  'rec_num': 93,\n",
       "  'age_upon_outcome': '2 months',\n",
       "  'animal_id': 'A707888',\n",
       "  'animal_type': 'Cat',\n",
       "  'breed': 'Domestic Shorthair Mix',\n",
       "  'color': 'Brown Tabby/White',\n",
       "  'date_of_birth': '2015-05-04',\n",
       "  'datetime': '2015-07-25 12:01:00',\n",
       "  'monthyear': '2015-07-25T12:01:00',\n",
       "  'name': 'Sammy',\n",
       "  'outcome_subtype': '',\n",
       "  'outcome_type': 'Adoption',\n",
       "  'sex_upon_outcome': 'Neutered Male',\n",
       "  'location_lat': 30.3482043779662,\n",
       "  'location_long': -97.3505154521528,\n",
       "  'age_upon_outcome_in_weeks': 11.7858134920635},\n",
       " {'_id': ObjectId('66a3cefbd8ec0b85c892e98f'),\n",
       "  'rec_num': 150,\n",
       "  'age_upon_outcome': '8 years',\n",
       "  'animal_id': 'A697686',\n",
       "  'animal_type': 'Cat',\n",
       "  'breed': 'Domestic Longhair Mix',\n",
       "  'color': 'Black/White',\n",
       "  'date_of_birth': '2007-02-26',\n",
       "  'datetime': '2015-08-12 12:02:00',\n",
       "  'monthyear': '2015-08-12T12:02:00',\n",
       "  'name': 'Sammy',\n",
       "  'outcome_subtype': 'Suffering',\n",
       "  'outcome_type': 'Euthanasia',\n",
       "  'sex_upon_outcome': 'Spayed Female',\n",
       "  'location_lat': 30.3358554363642,\n",
       "  'location_long': -97.5263389234764,\n",
       "  'age_upon_outcome_in_weeks': 441.357341269841},\n",
       " {'_id': ObjectId('66a3cefbd8ec0b85c892ece6'),\n",
       "  'rec_num': 1000,\n",
       "  'age_upon_outcome': '1 year',\n",
       "  'animal_id': 'A751510',\n",
       "  'animal_type': 'Cat',\n",
       "  'breed': 'Domestic Shorthair Mix',\n",
       "  'color': 'Blue/White',\n",
       "  'date_of_birth': '2016-06-09',\n",
       "  'datetime': '2017-06-27 18:13:00',\n",
       "  'monthyear': '2017-06-27T18:13:00',\n",
       "  'name': 'Sammy',\n",
       "  'outcome_subtype': '',\n",
       "  'outcome_type': 'Return to Owner',\n",
       "  'sex_upon_outcome': 'Neutered Male',\n",
       "  'location_lat': 30.4118172702272,\n",
       "  'location_long': -97.6832810673034,\n",
       "  'age_upon_outcome_in_weeks': 54.8227182539683},\n",
       " {'_id': ObjectId('66a3cefbd8ec0b85c892f0e2'),\n",
       "  'rec_num': 2022,\n",
       "  'age_upon_outcome': '13 years',\n",
       "  'animal_id': 'A354753',\n",
       "  'animal_type': 'Dog',\n",
       "  'breed': 'Pit Bull',\n",
       "  'color': 'Brown Brindle/White',\n",
       "  'date_of_birth': '2003-07-13',\n",
       "  'datetime': '2017-04-22 11:27:00',\n",
       "  'monthyear': '2017-04-22T11:27:00',\n",
       "  'name': 'Sammy',\n",
       "  'outcome_subtype': '',\n",
       "  'outcome_type': 'Return to Owner',\n",
       "  'sex_upon_outcome': 'Neutered Male',\n",
       "  'location_lat': 30.6064161100346,\n",
       "  'location_long': -97.4214409389566,\n",
       "  'age_upon_outcome_in_weeks': 718.925297619048},\n",
       " {'_id': ObjectId('66a3cefbd8ec0b85c892f1eb'),\n",
       "  'rec_num': 2290,\n",
       "  'age_upon_outcome': '3 years',\n",
       "  'animal_id': 'A717055',\n",
       "  'animal_type': 'Dog',\n",
       "  'breed': 'Labrador Retriever Mix',\n",
       "  'color': 'Yellow',\n",
       "  'date_of_birth': '2012-12-01',\n",
       "  'datetime': '2015-12-02 18:37:00',\n",
       "  'monthyear': '2015-12-02T18:37:00',\n",
       "  'name': 'Sammy',\n",
       "  'outcome_subtype': '',\n",
       "  'outcome_type': 'Return to Owner',\n",
       "  'sex_upon_outcome': 'Neutered Male',\n",
       "  'location_lat': 30.4175012090816,\n",
       "  'location_long': -97.6654622974687,\n",
       "  'age_upon_outcome_in_weeks': 156.682242063492},\n",
       " {'_id': ObjectId('66a3cefbd8ec0b85c892faf2'),\n",
       "  'rec_num': 4594,\n",
       "  'age_upon_outcome': '6 months',\n",
       "  'animal_id': 'A728057',\n",
       "  'animal_type': 'Dog',\n",
       "  'breed': 'Labrador Retriever Mix',\n",
       "  'color': 'Black/White',\n",
       "  'date_of_birth': '2015-12-01',\n",
       "  'datetime': '2016-06-23 00:00:00',\n",
       "  'monthyear': '2016-06-23T00:00:00',\n",
       "  'name': 'Sammy',\n",
       "  'outcome_subtype': '',\n",
       "  'outcome_type': 'Return to Owner',\n",
       "  'sex_upon_outcome': 'Spayed Female',\n",
       "  'location_lat': 30.305408143613,\n",
       "  'location_long': -97.3953132208376,\n",
       "  'age_upon_outcome_in_weeks': 29.2857142857143},\n",
       " {'_id': ObjectId('66a3cefbd8ec0b85c892fef8'),\n",
       "  'rec_num': 5631,\n",
       "  'age_upon_outcome': '12 years',\n",
       "  'animal_id': 'A755227',\n",
       "  'animal_type': 'Cat',\n",
       "  'breed': 'Domestic Shorthair Mix',\n",
       "  'color': 'Blue Tabby',\n",
       "  'date_of_birth': '2005-07-31',\n",
       "  'datetime': '2017-09-17 18:00:00',\n",
       "  'monthyear': '2017-09-17T18:00:00',\n",
       "  'name': 'Sammy',\n",
       "  'outcome_subtype': '',\n",
       "  'outcome_type': 'Adoption',\n",
       "  'sex_upon_outcome': 'Neutered Male',\n",
       "  'location_lat': 30.3354022384412,\n",
       "  'location_long': -97.4069796278309,\n",
       "  'age_upon_outcome_in_weeks': 633.107142857143},\n",
       " {'_id': ObjectId('66a3cefbd8ec0b85c8930220'),\n",
       "  'rec_num': 6439,\n",
       "  'age_upon_outcome': '2 years',\n",
       "  'animal_id': 'A764150',\n",
       "  'animal_type': 'Dog',\n",
       "  'breed': 'Chihuahua Shorthair Mix',\n",
       "  'color': 'Black/Tan',\n",
       "  'date_of_birth': '2015-12-22',\n",
       "  'datetime': '2017-12-24 12:43:00',\n",
       "  'monthyear': '2017-12-24T12:43:00',\n",
       "  'name': 'Sammy',\n",
       "  'outcome_subtype': '',\n",
       "  'outcome_type': 'Return to Owner',\n",
       "  'sex_upon_outcome': 'Intact Female',\n",
       "  'location_lat': 30.3755747770399,\n",
       "  'location_long': -97.4058319350088,\n",
       "  'age_upon_outcome_in_weeks': 104.78998015873},\n",
       " {'_id': ObjectId('66a3cefbd8ec0b85c8930424'),\n",
       "  'rec_num': 6936,\n",
       "  'age_upon_outcome': '2 months',\n",
       "  'animal_id': 'A731109',\n",
       "  'animal_type': 'Dog',\n",
       "  'breed': 'Akita Mix',\n",
       "  'color': 'Black/Tan',\n",
       "  'date_of_birth': '2016-05-16',\n",
       "  'datetime': '2016-07-23 17:37:00',\n",
       "  'monthyear': '2016-07-23T17:37:00',\n",
       "  'name': 'Sammy',\n",
       "  'outcome_subtype': '',\n",
       "  'outcome_type': 'Adoption',\n",
       "  'sex_upon_outcome': 'Spayed Female',\n",
       "  'location_lat': 30.5045689522561,\n",
       "  'location_long': -97.5843078319256,\n",
       "  'age_upon_outcome_in_weeks': 9.81914682539682},\n",
       " {'_id': ObjectId('66a3cefbd8ec0b85c8930755'),\n",
       "  'rec_num': 7766,\n",
       "  'age_upon_outcome': '3 years',\n",
       "  'animal_id': 'A694714',\n",
       "  'animal_type': 'Dog',\n",
       "  'breed': 'Shetland Sheepdog/Border Collie',\n",
       "  'color': 'Black/White',\n",
       "  'date_of_birth': '2012-01-02',\n",
       "  'datetime': '2015-03-16 17:05:00',\n",
       "  'monthyear': '2015-03-16T17:05:00',\n",
       "  'name': 'Sammy',\n",
       "  'outcome_subtype': 'Foster',\n",
       "  'outcome_type': 'Adoption',\n",
       "  'sex_upon_outcome': 'Neutered Male',\n",
       "  'location_lat': 30.3460884719638,\n",
       "  'location_long': -97.4289935471236,\n",
       "  'age_upon_outcome_in_weeks': 167.101686507937}]"
      ]
     },
     "execution_count": 3,
     "metadata": {},
     "output_type": "execute_result"
    }
   ],
   "source": [
    "from CRUD_Module_MDB import AnimalShelter\n",
    "\n",
    "db = AnimalShelter('aacuser', 'GMV_cs340')\n",
    "db.read({'name': 'Sammy'})"
   ]
  },
  {
   "cell_type": "code",
   "execution_count": 4,
   "id": "a41cbc55",
   "metadata": {},
   "outputs": [
    {
     "data": {
      "text/plain": [
       "10"
      ]
     },
     "execution_count": 4,
     "metadata": {},
     "output_type": "execute_result"
    }
   ],
   "source": [
    "from CRUD_Module_MDB import AnimalShelter\n",
    "\n",
    "db = AnimalShelter('aacuser', 'GMV_cs340')\n",
    "db.delete({'name': 'Sammy'})"
   ]
  },
  {
   "cell_type": "code",
   "execution_count": 1,
   "id": "5bf5e73a",
   "metadata": {},
   "outputs": [
    {
     "data": {
      "text/plain": [
       "[]"
      ]
     },
     "execution_count": 1,
     "metadata": {},
     "output_type": "execute_result"
    }
   ],
   "source": [
    "from CRUD_Module_MDB import AnimalShelter\n",
    "\n",
    "db = AnimalShelter('aacuser', 'GMV_cs340')\n",
    "db.read({'name': 'Sammy'})"
   ]
  },
  {
   "cell_type": "code",
   "execution_count": null,
   "id": "c7abe4ca",
   "metadata": {},
   "outputs": [],
   "source": []
  }
 ],
 "metadata": {
  "kernelspec": {
   "display_name": "Python 3 (ipykernel)",
   "language": "python",
   "name": "python3"
  },
  "language_info": {
   "codemirror_mode": {
    "name": "ipython",
    "version": 3
   },
   "file_extension": ".py",
   "mimetype": "text/x-python",
   "name": "python",
   "nbconvert_exporter": "python",
   "pygments_lexer": "ipython3",
   "version": "3.9.12"
  }
 },
 "nbformat": 4,
 "nbformat_minor": 5
}
